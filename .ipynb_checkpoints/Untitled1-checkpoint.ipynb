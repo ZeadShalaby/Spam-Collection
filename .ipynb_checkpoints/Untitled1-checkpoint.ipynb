{
 "cells": [
  {
   "cell_type": "code",
   "execution_count": 1,
   "id": "b50e1909-f8e1-4f77-8e0f-bb65c7262c92",
   "metadata": {},
   "outputs": [],
   "source": [
    "import pandas as pd\n",
    "import string\n",
    "import spacy\n",
    "from nltk.corpus import stopwords\n",
    "from nltk.tokenize import word_tokenize\n",
    "from nltk.stem import PorterStemmer\n",
    "from sklearn.feature_extraction.text import TfidfVectorizer\n",
    "from sklearn.model_selection import train_test_split\n",
    "from sklearn.linear_model import LogisticRegression\n",
    "from sklearn.metrics import accuracy_score, confusion_matrix, classification_report\n",
    "import matplotlib.pyplot as plt\n",
    "import seaborn as sns\n",
    "import nltk"
   ]
  },
  {
   "cell_type": "code",
   "execution_count": 2,
   "id": "733b12d5-36e1-467d-8b64-d2fc81e3425e",
   "metadata": {},
   "outputs": [
    {
     "name": "stderr",
     "output_type": "stream",
     "text": [
      "[nltk_data] Downloading package punkt to\n",
      "[nltk_data]     C:\\Users\\Alahram\\AppData\\Roaming\\nltk_data...\n",
      "[nltk_data]   Package punkt is already up-to-date!\n",
      "[nltk_data] Downloading package stopwords to\n",
      "[nltk_data]     C:\\Users\\Alahram\\AppData\\Roaming\\nltk_data...\n",
      "[nltk_data]   Package stopwords is already up-to-date!\n",
      "[nltk_data] Downloading package averaged_perceptron_tagger to\n",
      "[nltk_data]     C:\\Users\\Alahram\\AppData\\Roaming\\nltk_data...\n",
      "[nltk_data]   Package averaged_perceptron_tagger is already up-to-\n",
      "[nltk_data]       date!\n",
      "[nltk_data] Downloading package maxent_ne_chunker to\n",
      "[nltk_data]     C:\\Users\\Alahram\\AppData\\Roaming\\nltk_data...\n",
      "[nltk_data]   Package maxent_ne_chunker is already up-to-date!\n",
      "[nltk_data] Downloading package words to\n",
      "[nltk_data]     C:\\Users\\Alahram\\AppData\\Roaming\\nltk_data...\n",
      "[nltk_data]   Package words is already up-to-date!\n"
     ]
    },
    {
     "data": {
      "text/plain": [
       "True"
      ]
     },
     "execution_count": 2,
     "metadata": {},
     "output_type": "execute_result"
    }
   ],
   "source": [
    "# Ensure necessary NLTK resources are downloaded\n",
    "nltk.download('punkt')\n",
    "nltk.download('stopwords')\n",
    "nltk.download('averaged_perceptron_tagger')\n",
    "nltk.download('maxent_ne_chunker')\n",
    "nltk.download('words')"
   ]
  },
  {
   "cell_type": "code",
   "execution_count": 4,
   "id": "87f9cdbc-c6b1-4868-8def-e22184468974",
   "metadata": {},
   "outputs": [],
   "source": [
    "#Load dataset\n",
    "df = pd.read_csv('spam.csv', encoding='latin-1')[['v1', 'v2']]\n",
    "df.columns = ['label', 'text']\n",
    "df['label'] = df['label'].map({'ham': 0, 'spam': 1})\n"
   ]
  },
  {
   "cell_type": "code",
   "execution_count": 5,
   "id": "e779d5a4-b69f-4977-9a49-44fd41530588",
   "metadata": {},
   "outputs": [],
   "source": [
    "# Initialize spaCy\n",
    "nlp = spacy.load('en_core_web_md')\n",
    "stop_words = set(stopwords.words('english'))\n",
    "ps = PorterStemmer()"
   ]
  },
  {
   "cell_type": "code",
   "execution_count": 6,
   "id": "7968e165-0323-45e5-bb92-d34b4e6d0d04",
   "metadata": {},
   "outputs": [],
   "source": [
    "# Preprocessing with spaCy\n",
    "def spacy_preprocess(text):\n",
    "    doc = nlp(text)\n",
    "    tokens = [token.lemma_.lower() for token in doc if not token.is_stop and not token.is_punct]\n",
    "    return tokens"
   ]
  },
  {
   "cell_type": "code",
   "execution_count": 7,
   "id": "31a3b540-c787-4a39-9690-580fcf8dcb64",
   "metadata": {},
   "outputs": [],
   "source": [
    "# Preprocessing with NLTK\n",
    "def nltk_preprocess(text):\n",
    "    tokens = word_tokenize(text)\n",
    "    tokens = [token.lower() for token in tokens if token.isalpha() and token not in stop_words]\n",
    "    stems = [ps.stem(token) for token in tokens]\n",
    "    return stems"
   ]
  },
  {
   "cell_type": "code",
   "execution_count": 8,
   "id": "3b5512ee-a2b6-4e8c-949a-92fee7ec2887",
   "metadata": {},
   "outputs": [],
   "source": [
    "# Apply spaCy preprocessing\n",
    "df['spacy_tokens'] = df['text'].apply(spacy_preprocess)"
   ]
  },
  {
   "cell_type": "code",
   "execution_count": 9,
   "id": "168b3650-887a-40fd-b672-46f7b118a03d",
   "metadata": {},
   "outputs": [],
   "source": [
    "# Apply NLTK preprocessing\n",
    "df['nltk_tokens'] = df['text'].apply(nltk_preprocess)\n"
   ]
  },
  {
   "cell_type": "code",
   "execution_count": 10,
   "id": "c050863b-9dc5-4e87-939c-90b47500c56e",
   "metadata": {},
   "outputs": [
    {
     "name": "stdout",
     "output_type": "stream",
     "text": [
      "Original Text vs. Preprocessed Text Samples:\n",
      "Original Text: Go until jurong point, crazy.. Available only in bugis n great world la e buffet... Cine there got amore wat...\n",
      "spaCy Preprocessed: jurong point crazy available bugis n great world la e buffet cine get amore wat\n",
      "NLTK Preprocessed: go jurong point crazi avail bugi n great world la e buffet cine got amor wat\n",
      "\n",
      "Original Text: Ok lar... Joking wif u oni...\n",
      "spaCy Preprocessed: ok lar joke wif u oni\n",
      "NLTK Preprocessed: ok lar joke wif u oni\n",
      "\n",
      "Original Text: Free entry in 2 a wkly comp to win FA Cup final tkts 21st May 2005. Text FA to 87121 to receive entry question(std txt rate)T&C's apply 08452810075over18's\n",
      "spaCy Preprocessed: free entry 2 wkly comp win fa cup final tkts 21st 2005 text fa 87121 receive entry question(std txt rate)t&c apply 08452810075over18\n",
      "NLTK Preprocessed: free entri wkli comp win fa cup final tkt may text fa receiv entri question std txt rate t c appli\n",
      "\n",
      "Original Text: U dun say so early hor... U c already then say...\n",
      "spaCy Preprocessed: u dun early hor u c\n",
      "NLTK Preprocessed: u dun say earli hor u c alreadi say\n",
      "\n",
      "Original Text: Nah I don't think he goes to usf, he lives around here though\n",
      "spaCy Preprocessed: nah think go usf live\n",
      "NLTK Preprocessed: nah i think goe usf live around though\n",
      "\n"
     ]
    }
   ],
   "source": [
    "# Display original and preprocessed text samples\n",
    "print(\"Original Text vs. Preprocessed Text Samples:\")\n",
    "for i in range(5):\n",
    "    print(f\"Original Text: {df['text'].iloc[i]}\")\n",
    "    print(f\"spaCy Preprocessed: {' '.join([str(token) for token in df['spacy_tokens'].iloc[i]])}\")\n",
    "    print(f\"NLTK Preprocessed: {' '.join(df['nltk_tokens'].iloc[i])}\")\n",
    "    print()"
   ]
  },
  {
   "cell_type": "code",
   "execution_count": 11,
   "id": "195be069-37ac-4341-95e7-f3ef74ac93ad",
   "metadata": {},
   "outputs": [],
   "source": [
    "# Vectorization using TF-IDF\n",
    "tfidf_vectorizer = TfidfVectorizer(tokenizer=lambda x: x, preprocessor=lambda x: x, token_pattern=None)\n",
    "X_spacy = tfidf_vectorizer.fit_transform(df['spacy_tokens'])\n",
    "X_nltk = tfidf_vectorizer.fit_transform(df['nltk_tokens'])\n",
    "y = df['label']"
   ]
  },
  {
   "cell_type": "code",
   "execution_count": 12,
   "id": "3aae749a-6081-49a4-8345-49d011e489ec",
   "metadata": {},
   "outputs": [],
   "source": [
    "# Split the data\n",
    "X_train_spacy, X_test_spacy, y_train, y_test = train_test_split(X_spacy, y, test_size=0.2, random_state=42)\n",
    "X_train_nltk, X_test_nltk, _, _ = train_test_split(X_nltk, y, test_size=0.2, random_state=42)"
   ]
  },
  {
   "cell_type": "code",
   "execution_count": 13,
   "id": "17615908-61c1-4828-9df2-0ddf75990e85",
   "metadata": {},
   "outputs": [
    {
     "name": "stdout",
     "output_type": "stream",
     "text": [
      "spaCy Preprocessing Accuracy: 0.9434977578475336\n"
     ]
    }
   ],
   "source": [
    "# Train and evaluate Logistic Regression model for spaCy\n",
    "model_spacy = LogisticRegression(max_iter=1000)\n",
    "model_spacy.fit(X_train_spacy, y_train)\n",
    "y_pred_spacy = model_spacy.predict(X_test_spacy)\n",
    "accuracy_spacy = accuracy_score(y_test, y_pred_spacy)\n",
    "print(\"spaCy Preprocessing Accuracy:\", accuracy_spacy)"
   ]
  },
  {
   "cell_type": "code",
   "execution_count": 14,
   "id": "c160f732-e50a-4666-8789-5339879dd914",
   "metadata": {},
   "outputs": [
    {
     "name": "stdout",
     "output_type": "stream",
     "text": [
      "NLTK Preprocessing Accuracy: 0.9524663677130045\n"
     ]
    }
   ],
   "source": [
    "# Train and evaluate Logistic Regression model for NLTK\n",
    "model_nltk = LogisticRegression(max_iter=1000)\n",
    "model_nltk.fit(X_train_nltk, y_train)\n",
    "y_pred_nltk = model_nltk.predict(X_test_nltk)\n",
    "accuracy_nltk = accuracy_score(y_test, y_pred_nltk)\n",
    "print(\"NLTK Preprocessing Accuracy:\", accuracy_nltk)"
   ]
  },
  {
   "cell_type": "code",
   "execution_count": 15,
   "id": "f9a718c7-1996-465d-9e6b-42ef902ff087",
   "metadata": {},
   "outputs": [
    {
     "data": {
      "image/png": "[encoded data removed]",
      "text/plain": [
       "<Figure size 800x600 with 2 Axes>"
      ]
     },
     "metadata": {},
     "output_type": "display_data"
    },
    {
     "data": {
      "image/png": "[encoded data removed]",
      "text/plain": [
       "<Figure size 800x600 with 2 Axes>"
      ]
     },
     "metadata": {},
     "output_type": "display_data"
    }
   ],
   "source": [
    "# Confusion Matrix Visualization\n",
    "def plot_confusion_matrix(y_true, y_pred, title):\n",
    "    cm = confusion_matrix(y_true, y_pred)\n",
    "    plt.figure(figsize=(8, 6))\n",
    "    sns.heatmap(cm, annot=True, fmt='d', cmap='Blues', xticklabels=['Ham', 'Spam'], yticklabels=['Ham', 'Spam'])\n",
    "    plt.xlabel('Predicted')\n",
    "    plt.ylabel('True')\n",
    "    plt.title(title)\n",
    "    plt.show()\n",
    "\n",
    "plot_confusion_matrix(y_test, y_pred_spacy, 'Confusion Matrix for spaCy Preprocessing')\n",
    "plot_confusion_matrix(y_test, y_pred_nltk, 'Confusion Matrix for NLTK Preprocessing')"
   ]
  },
  {
   "cell_type": "code",
   "execution_count": 16,
   "id": "d960a6c6-f24d-4030-9dd7-762c92c5655e",
   "metadata": {},
   "outputs": [
    {
     "name": "stdout",
     "output_type": "stream",
     "text": [
      "Classification Report for spaCy Preprocessing:\n",
      "               precision    recall  f1-score   support\n",
      "\n",
      "           0       0.94      1.00      0.97       965\n",
      "           1       0.97      0.60      0.74       150\n",
      "\n",
      "    accuracy                           0.94      1115\n",
      "   macro avg       0.95      0.80      0.85      1115\n",
      "weighted avg       0.94      0.94      0.94      1115\n",
      "\n",
      "Classification Report for NLTK Preprocessing:\n",
      "               precision    recall  f1-score   support\n",
      "\n",
      "           0       0.95      1.00      0.97       965\n",
      "           1       0.98      0.66      0.79       150\n",
      "\n",
      "    accuracy                           0.95      1115\n",
      "   macro avg       0.96      0.83      0.88      1115\n",
      "weighted avg       0.95      0.95      0.95      1115\n",
      "\n"
     ]
    }
   ],
   "source": [
    "# Classification Reports\n",
    "print(\"Classification Report for spaCy Preprocessing:\\n\", classification_report(y_test, y_pred_spacy))\n",
    "print(\"Classification Report for NLTK Preprocessing:\\n\", classification_report(y_test, y_pred_nltk))\n"
   ]
  },
  {
   "cell_type": "code",
   "execution_count": null,
   "id": "c86717e7-1c59-4e11-bf6d-a8dd15c38990",
   "metadata": {},
   "outputs": [],
   "source": [
    "import pickle\n",
    "\n",
    "# Assuming SVM is your trained model\n",
    "\n",
    "filename = 'spam_detect.pkl'\n",
    "\n",
    "# Open the file in binary write mode\n",
    "with open(filename, 'wb') as file:\n",
    "    # Dump the SVM model into the file\n",
    "    pickle.dump(model_spacy, file)\n",
    "# Optionally, you can print a message to indicate that the model has been saved\n",
    "print(\"Model saved successfully as:\", filename)"
   ]
  }
 ],
 "metadata": {
  "kernelspec": {
   "display_name": "Python 3 (ipykernel)",
   "language": "python",
   "name": "python3"
  },
  "language_info": {
   "codemirror_mode": {
    "name": "ipython",
    "version": 3
   },
   "file_extension": ".py",
   "mimetype": "text/x-python",
   "name": "python",
   "nbconvert_exporter": "python",
   "pygments_lexer": "ipython3",
   "version": "3.12.0"
  }
 },
 "nbformat": 4,
 "nbformat_minor": 5
}
